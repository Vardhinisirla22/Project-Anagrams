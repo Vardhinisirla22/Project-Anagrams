{
 "cells": [
  {
   "cell_type": "markdown",
   "id": "b2ef973c",
   "metadata": {},
   "source": [
    "# sorting"
   ]
  },
  {
   "cell_type": "code",
   "execution_count": 2,
   "id": "3ad10253",
   "metadata": {},
   "outputs": [
    {
     "name": "stdout",
     "output_type": "stream",
     "text": [
      "[['eat', 'tea', 'ate'], ['tan', 'nat'], ['bat']]\n"
     ]
    }
   ],
   "source": [
    "def group_anagrams(strs):\n",
    "    anagram_dict = {}\n",
    "    \n",
    "    for word in strs:\n",
    "        sorted_word = ''.join(sorted(word))\n",
    "        if sorted_word in anagram_dict:\n",
    "            anagram_dict[sorted_word].append(word)\n",
    "        else:\n",
    "            anagram_dict[sorted_word] = [word]\n",
    "    \n",
    "    return list(anagram_dict.values())\n",
    "\n",
    "# Test the function\n",
    "input_list = [\"eat\", \"tea\", \"tan\", \"ate\", \"nat\", \"bat\"]\n",
    "output = group_anagrams(input_list)\n",
    "print(output)\n"
   ]
  },
  {
   "cell_type": "markdown",
   "id": "ed71e254",
   "metadata": {},
   "source": [
    "# Grouping\n"
   ]
  },
  {
   "cell_type": "code",
   "execution_count": 4,
   "id": "2f0ab5cb",
   "metadata": {},
   "outputs": [
    {
     "name": "stdout",
     "output_type": "stream",
     "text": [
      "[['eat', 'tea', 'ate'], ['tan', 'nat'], ['bat']]\n"
     ]
    }
   ],
   "source": [
    "def group_anagrams(strings):\n",
    "    # Create a dictionary to store groups of anagrams\n",
    "    anagram_groups = {}\n",
    "\n",
    "    # Iterate through each string in the input list\n",
    "    for string in strings:\n",
    "        # Sort the characters of the string to get its \"signature\"\n",
    "        sorted_string = ''.join(sorted(string))\n",
    "        \n",
    "        # Check if the sorted string exists in the dictionary\n",
    "        # If it does not, create a new list for it\n",
    "        if sorted_string not in anagram_groups:\n",
    "            anagram_groups[sorted_string] = []\n",
    "        \n",
    "        # Append the original string to the list of its anagrams\n",
    "        anagram_groups[sorted_string].append(string)\n",
    "\n",
    "    # Return a list containing lists of anagrams\n",
    "    return list(anagram_groups.values())\n",
    "\n",
    "# Test the function\n",
    "input_strings = [\"eat\", \"tea\", \"tan\", \"ate\", \"nat\", \"bat\"]\n",
    "output = group_anagrams(input_strings)\n",
    "print(output)\n"
   ]
  },
  {
   "cell_type": "markdown",
   "id": "81d45931",
   "metadata": {},
   "source": [
    "# Iteration"
   ]
  },
  {
   "cell_type": "code",
   "execution_count": 6,
   "id": "db0cf320",
   "metadata": {},
   "outputs": [
    {
     "name": "stdout",
     "output_type": "stream",
     "text": [
      "[['eat', 'tea', 'ate'], ['tan', 'nat'], ['bat']]\n"
     ]
    }
   ],
   "source": [
    "def group_anagrams(strings):\n",
    "    # Create a dictionary to store groups of anagrams\n",
    "    anagram_groups = {}\n",
    "\n",
    "    # Iterate through each string in the input list\n",
    "    for string in strings:\n",
    "        # Sort the characters of the string to get its \"signature\"\n",
    "        sorted_string = ''.join(sorted(string))\n",
    "        \n",
    "        # Check if the sorted string exists in the dictionary\n",
    "        if sorted_string in anagram_groups:\n",
    "            # If the sorted string already exists as a key, append the original string to its value\n",
    "            anagram_groups[sorted_string].append(string)\n",
    "        else:\n",
    "            # If the sorted string is not yet a key, create a new key with the sorted string and its value as a list containing the original string\n",
    "            anagram_groups[sorted_string] = [string]\n",
    "\n",
    "    # Return a list containing lists of anagrams\n",
    "    return list(anagram_groups.values())\n",
    "\n",
    "# Test the function\n",
    "input_strings = [\"eat\", \"tea\", \"tan\", \"ate\", \"nat\", \"bat\"]\n",
    "output = group_anagrams(input_strings)\n",
    "print(output)\n"
   ]
  },
  {
   "cell_type": "markdown",
   "id": "22eb7b4b",
   "metadata": {},
   "source": [
    "# FINAL RESULT"
   ]
  },
  {
   "cell_type": "code",
   "execution_count": 10,
   "id": "3aaa3fcc",
   "metadata": {},
   "outputs": [
    {
     "name": "stdout",
     "output_type": "stream",
     "text": [
      "[['eat', 'tea', 'ate'], ['tan', 'nat'], ['bat']]\n"
     ]
    }
   ],
   "source": [
    "def group_anagrams(strings):\n",
    "    # Create a dictionary to store groups of anagrams\n",
    "    anagram_groups = {}\n",
    "\n",
    "    # Iterate through each string in the input list\n",
    "    for string in strings:\n",
    "        # Sort the characters of the string to get its \"signature\"\n",
    "        sorted_string = ''.join(sorted(string))\n",
    "        \n",
    "        # Check if the sorted string exists in the dictionary\n",
    "        if sorted_string in anagram_groups:\n",
    "            # If the sorted string already exists as a key, append the original string to its value\n",
    "            anagram_groups[sorted_string].append(string)\n",
    "        else:\n",
    "            # If the sorted string is not yet a key, create a new key with the sorted string and its value as a list containing the original string\n",
    "            anagram_groups[sorted_string] = [string]\n",
    "\n",
    "    # Return a list containing lists of anagrams (values from the dictionary)\n",
    "    return list(anagram_groups.values())\n",
    "\n",
    "# Test the function\n",
    "input_strings = [\"eat\", \"tea\", \"tan\", \"ate\", \"nat\", \"bat\"]\n",
    "output = group_anagrams(input_strings)\n",
    "print(output)\n"
   ]
  },
  {
   "cell_type": "markdown",
   "id": "2f80a729",
   "metadata": {},
   "source": [
    "# SOME OTHER EXAMPLES"
   ]
  },
  {
   "cell_type": "code",
   "execution_count": 11,
   "id": "0f79f331",
   "metadata": {},
   "outputs": [
    {
     "name": "stdout",
     "output_type": "stream",
     "text": [
      "[['listen', 'silent', 'enlist'], ['hello'], ['world'], ['done']]\n"
     ]
    }
   ],
   "source": [
    "input_strings_2 = [\"listen\", \"silent\", \"enlist\", \"hello\", \"world\", \"done\"]\n",
    "output_2 = group_anagrams(input_strings_2)\n",
    "print(output_2)\n"
   ]
  },
  {
   "cell_type": "code",
   "execution_count": 12,
   "id": "7e42a131",
   "metadata": {},
   "outputs": [
    {
     "name": "stdout",
     "output_type": "stream",
     "text": [
      "[['debitcard', 'badcredit'], ['elvis', 'lives', 'levis'], ['silent', 'listen'], ['freedom']]\n"
     ]
    }
   ],
   "source": [
    "input_strings_3 = [\"debitcard\", \"elvis\", \"silent\", \"badcredit\", \"lives\", \"freedom\", \"listen\", \"levis\"]\n",
    "output_3 = group_anagrams(input_strings_3)\n",
    "print(output_3)\n"
   ]
  },
  {
   "cell_type": "code",
   "execution_count": null,
   "id": "8ec1c414",
   "metadata": {},
   "outputs": [],
   "source": []
  },
  {
   "cell_type": "code",
   "execution_count": null,
   "id": "b38e1ca7",
   "metadata": {},
   "outputs": [],
   "source": []
  }
 ],
 "metadata": {
  "kernelspec": {
   "display_name": "Python 3 (ipykernel)",
   "language": "python",
   "name": "python3"
  },
  "language_info": {
   "codemirror_mode": {
    "name": "ipython",
    "version": 3
   },
   "file_extension": ".py",
   "mimetype": "text/x-python",
   "name": "python",
   "nbconvert_exporter": "python",
   "pygments_lexer": "ipython3",
   "version": "3.11.4"
  }
 },
 "nbformat": 4,
 "nbformat_minor": 5
}
